{
  "cells": [
    {
      "cell_type": "markdown",
      "metadata": {
        "id": "UYZEbMj8PsRN"
      },
      "source": [
        "To run this, press \"*Runtime*\" and press \"*Run all*\" on a **free** Tesla T4 Google Colab instance!\n",
        "<div class=\"align-center\">\n",
        "<a href=\"https://unsloth.ai/\"><img src=\"https://github.com/unslothai/unsloth/raw/main/images/unsloth%20new%20logo.png\" width=\"115\"></a>\n",
        "<a href=\"https://discord.gg/unsloth\"><img src=\"https://github.com/unslothai/unsloth/raw/main/images/Discord button.png\" width=\"145\"></a>\n",
        "<a href=\"https://docs.unsloth.ai/\"><img src=\"https://github.com/unslothai/unsloth/blob/main/images/documentation%20green%20button.png?raw=true\" width=\"125\"></a></a> Join Discord if you need help + ⭐ <i>Star us on <a href=\"https://github.com/unslothai/unsloth\">Github</a> </i> ⭐\n",
        "</div>\n",
        "\n",
        "To install Unsloth on your own computer, follow the installation instructions on our Github page [here](https://docs.unsloth.ai/get-started/installing-+-updating).\n",
        "\n",
        "You will learn how to do [data prep](#Data), how to [train](#Train), how to [run the model](#Inference), & [how to save it](#Save)\n",
        "\n",
        "Visit our docs for all our [model uploads](https://docs.unsloth.ai/get-started/all-our-models) and [notebooks](https://docs.unsloth.ai/get-started/unsloth-notebooks).\n"
      ]
    },
    {
      "cell_type": "markdown",
      "metadata": {
        "id": "68X7GxGcPsRO"
      },
      "source": [
        "### News"
      ]
    },
    {
      "cell_type": "markdown",
      "metadata": {
        "id": "vAFDCQ7dPsRO"
      },
      "source": [
        "**[NEW] We've fixed many bugs in Phi-4** which greatly increases Phi-4's accuracy. See our [blogpost](https://unsloth.ai/blog/phi4)\n",
        "\n",
        "[NEW] You can view all Phi-4 model uploads with our bug fixes including [dynamic 4-bit quants](https://unsloth.ai/blog/dynamic-4bit), GGUF & more [here](https://huggingface.co/collections/unsloth/phi-4-all-versions-677eecf93784e61afe762afa)\n",
        "\n",
        "[NEW] As of Novemeber 2024, Unsloth now supports [vision finetuning](https://unsloth.ai/blog/vision)!\n"
      ]
    },
    {
      "cell_type": "markdown",
      "metadata": {
        "id": "5MyRRomlPsRO"
      },
      "source": [
        "### Installation"
      ]
    },
    {
      "cell_type": "code",
      "execution_count": 23,
      "metadata": {
        "id": "OXY6K3J5PsRP"
      },
      "outputs": [],
      "source": [
        "%%capture\n",
        "# Normally using pip install unsloth is enough\n",
        "\n",
        "# Temporarily as of Jan 31st 2025, Colab has some issues with Pytorch\n",
        "# Using pip install unsloth will take 3 minutes, whilst the below takes <1 minute:\n",
        "!pip install --no-deps bitsandbytes accelerate xformers==0.0.29 peft trl triton\n",
        "!pip install --no-deps cut_cross_entropy unsloth_zoo\n",
        "!pip install sentencepiece protobuf datasets huggingface_hub hf_transfer\n",
        "!pip install --no-deps unsloth"
      ]
    },
    {
      "cell_type": "markdown",
      "metadata": {
        "id": "Lr4l3NJiPsRP"
      },
      "source": [
        "### Unsloth"
      ]
    },
    {
      "cell_type": "code",
      "execution_count": 24,
      "metadata": {
        "colab": {
          "base_uri": "https://localhost:8080/"
        },
        "id": "QmUBVEnvCDJv",
        "outputId": "17e0faea-11d1-47cf-a20e-fe530bd51f6d"
      },
      "outputs": [
        {
          "output_type": "stream",
          "name": "stdout",
          "text": [
            "==((====))==  Unsloth 2025.1.8: Fast Llama patching. Transformers: 4.47.1.\n",
            "   \\\\   /|    GPU: Tesla T4. Max memory: 14.741 GB. Platform: Linux.\n",
            "O^O/ \\_/ \\    Torch: 2.5.1+cu124. CUDA: 7.5. CUDA Toolkit: 12.4. Triton: 3.1.0\n",
            "\\        /    Bfloat16 = FALSE. FA [Xformers = 0.0.29. FA2 = False]\n",
            " \"-____-\"     Free Apache license: http://github.com/unslothai/unsloth\n",
            "Unsloth: Fast downloading is enabled - ignore downloading bars which are red colored!\n"
          ]
        }
      ],
      "source": [
        "from unsloth import FastLanguageModel\n",
        "import torch\n",
        "max_seq_length = 2048 # Choose any! We auto support RoPE Scaling internally!\n",
        "dtype = None # None for auto detection. Float16 for Tesla T4, V100, Bfloat16 for Ampere+\n",
        "load_in_4bit = True # Use 4bit quantization to reduce memory usage. Can be False.\n",
        "\n",
        "# 4bit pre quantized models we support for 4x faster downloading + no OOMs.\n",
        "fourbit_models = [\n",
        "    \"unsloth/Meta-Llama-3.1-8B-bnb-4bit\",      # Llama-3.1 15 trillion tokens model 2x faster!\n",
        "    \"unsloth/Meta-Llama-3.1-8B-Instruct-bnb-4bit\",\n",
        "    \"unsloth/Meta-Llama-3.1-70B-bnb-4bit\",\n",
        "    \"unsloth/Meta-Llama-3.1-405B-bnb-4bit\",    # We also uploaded 4bit for 405b!\n",
        "    \"unsloth/Mistral-Nemo-Base-2407-bnb-4bit\", # New Mistral 12b 2x faster!\n",
        "    \"unsloth/Mistral-Nemo-Instruct-2407-bnb-4bit\",\n",
        "    \"unsloth/mistral-7b-v0.3-bnb-4bit\",        # Mistral v3 2x faster!\n",
        "    \"unsloth/mistral-7b-instruct-v0.3-bnb-4bit\",\n",
        "    \"unsloth/Phi-3.5-mini-instruct\",           # Phi-3.5 2x faster!\n",
        "    \"unsloth/Phi-3-medium-4k-instruct\",\n",
        "    \"unsloth/gemma-2-9b-bnb-4bit\",\n",
        "    \"unsloth/gemma-2-27b-bnb-4bit\",            # Gemma 2x faster!\n",
        "] # More models at https://huggingface.co/unsloth\n",
        "\n",
        "model, tokenizer = FastLanguageModel.from_pretrained(\n",
        "    model_name = \"unsloth/Meta-Llama-3.1-8B\",\n",
        "    max_seq_length = max_seq_length,\n",
        "    dtype = dtype,\n",
        "    load_in_4bit = load_in_4bit,\n",
        "    # token = \"hf_...\", # use one if using gated models like meta-llama/Llama-2-7b-hf\n",
        ")"
      ]
    },
    {
      "cell_type": "markdown",
      "metadata": {
        "id": "SXd9bTZd1aaL"
      },
      "source": [
        "We now add LoRA adapters so we only need to update 1 to 10% of all parameters!"
      ]
    },
    {
      "cell_type": "code",
      "execution_count": 25,
      "metadata": {
        "id": "6bZsfBuZDeCL"
      },
      "outputs": [],
      "source": [
        "model = FastLanguageModel.get_peft_model(\n",
        "    model,\n",
        "    r = 16, # Choose any number > 0 ! Suggested 8, 16, 32, 64, 128\n",
        "    target_modules = [\"q_proj\", \"k_proj\", \"v_proj\", \"o_proj\",\n",
        "                      \"gate_proj\", \"up_proj\", \"down_proj\",],\n",
        "    lora_alpha = 16,\n",
        "    lora_dropout = 0, # Supports any, but = 0 is optimized\n",
        "    bias = \"none\",    # Supports any, but = \"none\" is optimized\n",
        "    # [NEW] \"unsloth\" uses 30% less VRAM, fits 2x larger batch sizes!\n",
        "    use_gradient_checkpointing = \"unsloth\", # True or \"unsloth\" for very long context\n",
        "    random_state = 3407,\n",
        "    use_rslora = False,  # We support rank stabilized LoRA\n",
        "    loftq_config = None, # And LoftQ\n",
        ")"
      ]
    },
    {
      "cell_type": "markdown",
      "metadata": {
        "id": "vITh0KVJ10qX"
      },
      "source": [
        "<a name=\"Data\"></a>\n",
        "### Data Prep\n",
        "We now use the Alpaca dataset from [yahma](https://huggingface.co/datasets/yahma/alpaca-cleaned), which is a filtered version of 52K of the original [Alpaca dataset](https://crfm.stanford.edu/2023/03/13/alpaca.html). You can replace this code section with your own data prep.\n",
        "\n",
        "**[NOTE]** To train only on completions (ignoring the user's input) read TRL's docs [here](https://huggingface.co/docs/trl/sft_trainer#train-on-completions-only).\n",
        "\n",
        "**[NOTE]** Remember to add the **EOS_TOKEN** to the tokenized output!! Otherwise you'll get infinite generations!\n",
        "\n",
        "If you want to use the `llama-3` template for ShareGPT datasets, try our conversational [notebook](https://colab.research.google.com/drive/1XamvWYinY6FOSX9GLvnqSjjsNflxdhNc?usp=sharing).\n",
        "\n",
        "For text completions like novel writing, try this [notebook](https://colab.research.google.com/drive/1ef-tab5bhkvWmBOObepl1WgJvfvSzn5Q?usp=sharing)."
      ]
    },
    {
      "cell_type": "code",
      "execution_count": 26,
      "metadata": {
        "id": "LjY75GoYUCB8"
      },
      "outputs": [],
      "source": [
        "alpaca_prompt = \"\"\"Below is an instruction that describes a task, paired with an input that provides further context. Write a response that appropriately completes the request.\n",
        "\n",
        "### Instruction:\n",
        "{}\n",
        "\n",
        "### Input:\n",
        "{}\n",
        "\n",
        "### Response:\n",
        "{}\"\"\"\n",
        "\n",
        "EOS_TOKEN = tokenizer.eos_token # Must add EOS_TOKEN\n",
        "def formatting_prompts_func(examples):\n",
        "    instructions = examples[\"instruction\"]\n",
        "    inputs       = examples[\"input\"]\n",
        "    outputs      = examples[\"output\"]\n",
        "    texts = []\n",
        "    for instruction, input, output in zip(instructions, inputs, outputs):\n",
        "        # Must add EOS_TOKEN, otherwise your generation will go on forever!\n",
        "        text = alpaca_prompt.format(instruction, input, output) + EOS_TOKEN\n",
        "        texts.append(text)\n",
        "    return { \"text\" : texts, }\n",
        "pass\n",
        "\n",
        "from datasets import load_dataset\n",
        "dataset = load_dataset(\"ragipselcuk/aresosekds\", split = \"train\")\n",
        "dataset = dataset.map(formatting_prompts_func, batched = True,)"
      ]
    },
    {
      "cell_type": "markdown",
      "metadata": {
        "id": "idAEIeSQ3xdS"
      },
      "source": [
        "<a name=\"Train\"></a>\n",
        "### Train the model\n",
        "Now let's use Huggingface TRL's `SFTTrainer`! More docs here: [TRL SFT docs](https://huggingface.co/docs/trl/sft_trainer). We do 60 steps to speed things up, but you can set `num_train_epochs=1` for a full run, and turn off `max_steps=None`. We also support TRL's `DPOTrainer`!"
      ]
    },
    {
      "cell_type": "code",
      "execution_count": 69,
      "metadata": {
        "id": "95_Nn-89DhsL"
      },
      "outputs": [],
      "source": [
        "from trl import SFTTrainer, SFTConfig  # Import SFTConfig from trl\n",
        "from transformers import TrainingArguments\n",
        "from unsloth import is_bfloat16_supported\n",
        "import re\n",
        "\n",
        "### 1️⃣ - SABİT WHITELIST (VALID_FUNCTIONS) TANIMLAMASI ###\n",
        "VALID_FUNCTIONS = {\n",
        "    \"ActivateSafetyMode\", \"ActivateTask\", \"AllocateMemory\", \"AssignTaskToCore\",\n",
        "    \"AtomicIncrement\", \"CancelAlarm\", \"CheckStackCanary\", \"ClearEvent\",\n",
        "    \"ConfigureHardwareTimer\", \"ConfigureMPU\", \"ConfigureSharedMemoryRegion\",\n",
        "    \"DMA_Transfer\", \"DeclareAlarm\", \"DeclareEvent\", \"DeclareResource\",\n",
        "    \"EnableAllInterrupts\", \"EnableInterruptLoadBalancing\", \"EnableInterruptSource\",\n",
        "    \"EnableMemoryProtection\", \"EnableORTI\", \"EnableSystemTrace\", \"EnableWatchdog\",\n",
        "    \"EnterLowPowerMode\", \"ErrorHook\", \"ExecuteTrustedFunction\", \"GetAlarm\",\n",
        "    \"GetAlarmBase\", \"GetEvent\", \"GetResource\", \"LogError\", \"LogExecutionTime\",\n",
        "    \"MemoryBarrier\", \"OsKernelLock\", \"Os_ActivateErrorHook\", \"Os_AllocateResource\",\n",
        "    \"Os_CheckCoreStatus\", \"Os_CheckStackOverflow\", \"Os_ConfigureMPU\",\n",
        "    \"Os_CoreShutdown\", \"Os_EnableInterruptSource\", \"Os_EnableRealTimeProfiling\",\n",
        "    \"Os_EnableTimingProtection\", \"Os_ErrorHook\", \"Os_ErrorLog\", \"Os_GetCoreState\",\n",
        "    \"Os_GetDetailedError\", \"Os_GetExceptionContext\", \"Os_GetTaskState\",\n",
        "    \"Os_GetUnhandledIrq\", \"Os_Init\", \"Os_InitMemory\", \"Os_LockResource\",\n",
        "    \"Os_MPUConfig\", \"Os_MigrateTask\", \"Os_MonitorTaskExecution\", \"Os_PanicHook\",\n",
        "    \"Os_PerformanceMonitoring\", \"Os_ResourceLock\", \"Os_ScheduleTask\",\n",
        "    \"Os_SecurityHook\", \"Os_StartCounter\", \"Os_SystemInit\", \"Os_SystemRestart\",\n",
        "    \"Os_TaskYield\", \"Os_TerminateApplication\", \"Os_TryToGetSpinlock\", \"PanicHook\",\n",
        "    \"ProtectionHook\", \"ReleaseResource\", \"RestartApplication\", \"Schedule\",\n",
        "    \"SendMessage\", \"SendXSignal\", \"SetAbsAlarm\", \"SetEvent\", \"SetExecutionDeadline\",\n",
        "    \"SetISRPriority\", \"SetRelAlarm\", \"SetTaskCoreAffinity\", \"SetTaskDeadline\",\n",
        "    \"SetTaskPriority\", \"ShutdownAllCores\", \"ShutdownCore\", \"ShutdownHook\",\n",
        "    \"ShutdownOS\", \"StackOverflowHook\", \"StartCore\", \"StartNonAutosarCore\",\n",
        "    \"StartOS\", \"TerminateApplication\", \"TryToGetSpinlock\", \"WaitEvent\"\n",
        "}\n",
        "\n",
        "### 2️⃣ - Fonksiyonları Filtreleme Fonksiyonu ###\n",
        "def filter_invalid_functions(text):\n",
        "    \"\"\"Yanıttaki fonksiyon isimlerini kontrol eder, geçersizleri kaldırır.\"\"\"\n",
        "    function_pattern = re.compile(r\"\\b[A-Za-z_][A-Za-z0-9_]*\\s*\\([^)]*\\)\")\n",
        "    matches = function_pattern.findall(text)\n",
        "    for match in matches:\n",
        "        func_name = match.split(\"(\")[0].strip()\n",
        "        if func_name not in VALID_FUNCTIONS:\n",
        "            text = text.replace(match, \"[INVALID FUNCTION]\")\n",
        "    return text\n",
        "\n",
        "### 3️⃣ - Yanıt Formatını Kontrol Eden Fonksiyon ###\n",
        "def enforce_output_format(text):\n",
        "    \"\"\"Yanıt formatının doğru olup olmadığını kontrol eder ve düzeltir.\"\"\"\n",
        "    if \"Process Steps:\" not in text:\n",
        "        text = \"Process Steps:\\n\" + text\n",
        "    if \"Example Code:\" not in text:\n",
        "        text += \"\\nExample Code: void PlaceholderFunction();\"\n",
        "    return text\n",
        "\n",
        "### 4️⃣ - Training Config (SFTConfig ile tam uyumlu) ###\n",
        "trainer = SFTTrainer(\n",
        "    model=model,\n",
        "    tokenizer=tokenizer,\n",
        "    train_dataset=dataset,\n",
        "    dataset_text_field=\"text\",\n",
        "    max_seq_length=1024,  # Uzun dizileri işleyebilmesi için uygun bir değer\n",
        "    packing=False,\n",
        "    dataset_num_proc=2,\n",
        "    args=TrainingArguments(\n",
        "        per_device_train_batch_size=2,  # Küçük batch size daha iyi öğrenmeyi sağlayabilir\n",
        "        gradient_accumulation_steps=4,\n",
        "        warmup_steps=10,  # Isınma adımları artırıldı\n",
        "        max_steps=-1,  # Daha fazla eğitim adımı ekleyerek öğrenmeyi artır\n",
        "        learning_rate=1e-5,  # Öğrenme oranını küçülterek yanlış öğrenmeyi engelle\n",
        "        fp16=not is_bfloat16_supported(),\n",
        "        bf16=is_bfloat16_supported(),\n",
        "        logging_steps=10,\n",
        "        optim=\"adamw_8bit\",\n",
        "        weight_decay=0.01,\n",
        "        lr_scheduler_type=\"cosine\",  # Cosine LR kullanarak daha stabil öğrenme sağla\n",
        "        seed=3407,\n",
        "        output_dir=\"outputs\",\n",
        "        report_to=\"none\",  # WandB gibi araçları kapat\n",
        "    ),\n",
        ")\n",
        "\n",
        "generation_kwargs = {\n",
        "    \"max_new_tokens\": 256,  # Daha uzun cevaplar üretebilmesi için artırıldı\n",
        "    \"use_cache\": True,\n",
        "    \"temperature\": 0.01,  # Rastgeleliği neredeyse sıfıra indir\n",
        "    \"top_k\": 1,  # Sadece en yüksek olasılıklı cevabı seç\n",
        "    \"top_p\": 0.1,  # Yanıtları daha az çeşitlendirerek kesin cevaplar üretmesini sağla\n",
        "    \"repetition_penalty\": 2.0  # Aynı şeyleri tekrar etmesini tamamen engelle\n",
        "}\n",
        "\n",
        "\n",
        "\n"
      ]
    },
    {
      "cell_type": "code",
      "execution_count": 70,
      "metadata": {
        "colab": {
          "base_uri": "https://localhost:8080/"
        },
        "id": "2ejIt2xSNKKp",
        "outputId": "10ccd2a7-7daa-4ffc-ae15-fedc28839235"
      },
      "outputs": [
        {
          "output_type": "stream",
          "name": "stdout",
          "text": [
            "GPU = Tesla T4. Max memory = 14.741 GB.\n",
            "11.512 GB of memory reserved.\n"
          ]
        }
      ],
      "source": [
        "# @title Show current memory stats\n",
        "gpu_stats = torch.cuda.get_device_properties(0)\n",
        "start_gpu_memory = round(torch.cuda.max_memory_reserved() / 1024 / 1024 / 1024, 3)\n",
        "max_memory = round(gpu_stats.total_memory / 1024 / 1024 / 1024, 3)\n",
        "print(f\"GPU = {gpu_stats.name}. Max memory = {max_memory} GB.\")\n",
        "print(f\"{start_gpu_memory} GB of memory reserved.\")"
      ]
    },
    {
      "cell_type": "code",
      "execution_count": 74,
      "metadata": {
        "colab": {
          "base_uri": "https://localhost:8080/",
          "height": 824
        },
        "id": "yqxqAZ7KJ4oL",
        "outputId": "9466c8b1-35c6-4854-9403-65d96972e904"
      },
      "outputs": [
        {
          "output_type": "stream",
          "name": "stderr",
          "text": [
            "==((====))==  Unsloth - 2x faster free finetuning | Num GPUs = 1\n",
            "   \\\\   /|    Num examples = 108 | Num Epochs = 8\n",
            "O^O/ \\_/ \\    Batch size per device = 2 | Gradient Accumulation steps = 4\n",
            "\\        /    Total batch size = 8 | Total steps = 104\n",
            " \"-____-\"     Number of trainable parameters = 41,943,040\n"
          ]
        },
        {
          "output_type": "display_data",
          "data": {
            "text/plain": [
              "<IPython.core.display.HTML object>"
            ],
            "text/html": [
              "\n",
              "    <div>\n",
              "      \n",
              "      <progress value='104' max='104' style='width:300px; height:20px; vertical-align: middle;'></progress>\n",
              "      [104/104 06:18, Epoch 7/8]\n",
              "    </div>\n",
              "    <table border=\"1\" class=\"dataframe\">\n",
              "  <thead>\n",
              " <tr style=\"text-align: left;\">\n",
              "      <th>Step</th>\n",
              "      <th>Training Loss</th>\n",
              "    </tr>\n",
              "  </thead>\n",
              "  <tbody>\n",
              "    <tr>\n",
              "      <td>5</td>\n",
              "      <td>0.714000</td>\n",
              "    </tr>\n",
              "    <tr>\n",
              "      <td>10</td>\n",
              "      <td>0.814500</td>\n",
              "    </tr>\n",
              "    <tr>\n",
              "      <td>15</td>\n",
              "      <td>0.645200</td>\n",
              "    </tr>\n",
              "    <tr>\n",
              "      <td>20</td>\n",
              "      <td>0.818700</td>\n",
              "    </tr>\n",
              "    <tr>\n",
              "      <td>25</td>\n",
              "      <td>0.702800</td>\n",
              "    </tr>\n",
              "    <tr>\n",
              "      <td>30</td>\n",
              "      <td>0.656700</td>\n",
              "    </tr>\n",
              "    <tr>\n",
              "      <td>35</td>\n",
              "      <td>0.828600</td>\n",
              "    </tr>\n",
              "    <tr>\n",
              "      <td>40</td>\n",
              "      <td>0.695900</td>\n",
              "    </tr>\n",
              "    <tr>\n",
              "      <td>45</td>\n",
              "      <td>0.598600</td>\n",
              "    </tr>\n",
              "    <tr>\n",
              "      <td>50</td>\n",
              "      <td>0.812000</td>\n",
              "    </tr>\n",
              "    <tr>\n",
              "      <td>55</td>\n",
              "      <td>0.758900</td>\n",
              "    </tr>\n",
              "    <tr>\n",
              "      <td>60</td>\n",
              "      <td>0.621000</td>\n",
              "    </tr>\n",
              "    <tr>\n",
              "      <td>65</td>\n",
              "      <td>0.803400</td>\n",
              "    </tr>\n",
              "    <tr>\n",
              "      <td>70</td>\n",
              "      <td>0.724900</td>\n",
              "    </tr>\n",
              "    <tr>\n",
              "      <td>75</td>\n",
              "      <td>0.769900</td>\n",
              "    </tr>\n",
              "    <tr>\n",
              "      <td>80</td>\n",
              "      <td>0.687500</td>\n",
              "    </tr>\n",
              "    <tr>\n",
              "      <td>85</td>\n",
              "      <td>0.988300</td>\n",
              "    </tr>\n",
              "    <tr>\n",
              "      <td>90</td>\n",
              "      <td>0.742500</td>\n",
              "    </tr>\n",
              "    <tr>\n",
              "      <td>95</td>\n",
              "      <td>0.642200</td>\n",
              "    </tr>\n",
              "    <tr>\n",
              "      <td>100</td>\n",
              "      <td>0.722200</td>\n",
              "    </tr>\n",
              "  </tbody>\n",
              "</table><p>"
            ]
          },
          "metadata": {}
        },
        {
          "output_type": "execute_result",
          "data": {
            "text/plain": [
              "TrainOutput(global_step=104, training_loss=0.7364398057644184, metrics={'train_runtime': 382.3152, 'train_samples_per_second': 2.26, 'train_steps_per_second': 0.272, 'total_flos': 6109793162280960.0, 'train_loss': 0.7364398057644184, 'epoch': 7.444444444444445})"
            ]
          },
          "metadata": {},
          "execution_count": 74
        }
      ],
      "source": [
        "#trainer.args.num_train_epochs = 5  # Daha dengeli eğitim için epoch sayısını düşür\n",
        "#trainer.args.per_device_train_batch_size = 2  # Daha küçük batch size ile daha iyi öğrenme sağlar\n",
        "#trainer.args.learning_rate = 1e-5  # Daha stabil öğrenme için learning rate düşürüldü\n",
        "\n",
        "# Eğitimi başlat\n",
        "#trainer_stats = trainer.train()\n",
        "\n",
        "trainer.args.num_train_epochs = 8  # Daha fazla epoch ile eğitimi artır\n",
        "trainer.args.per_device_train_batch_size = 2  # Batch size artırmak yerine stabil tut\n",
        "trainer.args.learning_rate = 5e-6  # Learning rate’i daha da küçült\n",
        "trainer.args.logging_steps = 5  # Daha sık loglama yaparak süreci kontrol edelim\n",
        "\n",
        "trainer.train()\n",
        "\n"
      ]
    },
    {
      "cell_type": "code",
      "execution_count": 65,
      "metadata": {
        "cellView": "form",
        "colab": {
          "base_uri": "https://localhost:8080/"
        },
        "id": "pCqnaKmlO1U9",
        "outputId": "3f535572-ebe2-45ef-e703-143026593057"
      },
      "outputs": [
        {
          "output_type": "stream",
          "name": "stdout",
          "text": [
            "1099.355 seconds used for training.\n",
            "18.32 minutes used for training.\n",
            "Peak reserved memory = 11.512 GB.\n",
            "Peak reserved memory for training = 0.0 GB.\n",
            "Peak reserved memory % of max memory = 78.095 %.\n",
            "Peak reserved memory for training % of max memory = 0.0 %.\n"
          ]
        }
      ],
      "source": [
        "# @title Show final memory and time stats\n",
        "used_memory = round(torch.cuda.max_memory_reserved() / 1024 / 1024 / 1024, 3)\n",
        "used_memory_for_lora = round(used_memory - start_gpu_memory, 3)\n",
        "used_percentage = round(used_memory / max_memory * 100, 3)\n",
        "lora_percentage = round(used_memory_for_lora / max_memory * 100, 3)\n",
        "print(f\"{trainer_stats.metrics['train_runtime']} seconds used for training.\")\n",
        "print(\n",
        "    f\"{round(trainer_stats.metrics['train_runtime']/60, 2)} minutes used for training.\"\n",
        ")\n",
        "print(f\"Peak reserved memory = {used_memory} GB.\")\n",
        "print(f\"Peak reserved memory for training = {used_memory_for_lora} GB.\")\n",
        "print(f\"Peak reserved memory % of max memory = {used_percentage} %.\")\n",
        "print(f\"Peak reserved memory for training % of max memory = {lora_percentage} %.\")"
      ]
    },
    {
      "cell_type": "markdown",
      "metadata": {
        "id": "ekOmTR1hSNcr"
      },
      "source": [
        "<a name=\"Inference\"></a>\n",
        "### Inference\n",
        "Let's run the model! You can change the instruction and input - leave the output blank!\n",
        "\n",
        "**[NEW] Try 2x faster inference in a free Colab for Llama-3.1 8b Instruct [here](https://colab.research.google.com/drive/1T-YBVfnphoVc8E2E854qF3jdia2Ll2W2?usp=sharing)**"
      ]
    },
    {
      "cell_type": "code",
      "execution_count": 75,
      "metadata": {
        "colab": {
          "base_uri": "https://localhost:8080/"
        },
        "id": "kR3gIAX-SM2q",
        "outputId": "240b0d88-64d2-4d78-aec0-a6f9f0df3710"
      },
      "outputs": [
        {
          "output_type": "stream",
          "name": "stdout",
          "text": [
            "✅ Güncellenmiş Model Yanıtı:\n",
            " Below is an instruction that describes a task, paired with an input that provides further context. Write a response that appropriately completes the request.\n",
            "\n",
            "### Instruction:\n",
            "What happens if a single core fails in MICROSAR Classic OS?\n",
            "\n",
            "### Input:\n",
            "How does MICROSAR Classic OS handle core failures?\n",
            "\n",
            "### Response:\n",
            "Core Failure Handling:\n",
            "\n",
            "- If one CPU (core) crashes or becomes unresponsive due to hardware failure,\n",
            "  other cores continue executing tasks.\n",
            "  \n",
            "Example Code: Os_CoreLock(CPU_ID); /* Locks specific Core */\n"
          ]
        }
      ],
      "source": [
        "# alpaca_prompt = Copied from above\n",
        "FastLanguageModel.for_inference(model) # Enable native 2x faster inference\n",
        "generation_kwargs = {\n",
        "    \"max_new_tokens\": 256,  # Daha uzun cevaplar üretebilmesi için artırıldı\n",
        "    \"use_cache\": True,\n",
        "    \"temperature\": 0.01,  # Rastgeleliği tamamen kaldır\n",
        "    \"top_k\": 1,  # En yüksek olasılıklı cevabı seç\n",
        "    \"top_p\": 0.1,  # Yanıtları daha az çeşitlendirerek kesin cevaplar üretmesini sağla\n",
        "    \"repetition_penalty\": 2.0  # Aynı şeyleri tekrar etmesini tamamen engelle\n",
        "}\n",
        "\n",
        "# Modelin giriş formatına uygun hale getirme\n",
        "inputs = tokenizer(\n",
        "    [alpaca_prompt.format(\"What happens if a single core fails in MICROSAR Classic OS?\",\n",
        "                          \"How does MICROSAR Classic OS handle core failures?\",\n",
        "                          \"\")],\n",
        "    return_tensors=\"pt\"\n",
        ").to(\"cuda\")\n",
        "\n",
        "outputs = model.generate(**inputs, **generation_kwargs)\n",
        "response = tokenizer.decode(outputs[0], skip_special_tokens=True)\n",
        "\n",
        "print(\"✅ Güncellenmiş Model Yanıtı:\\n\", response)\n"
      ]
    },
    {
      "cell_type": "markdown",
      "metadata": {
        "id": "CrSvZObor0lY"
      },
      "source": [
        " You can also use a `TextStreamer` for continuous inference - so you can see the generation token by token, instead of waiting the whole time!"
      ]
    },
    {
      "cell_type": "code",
      "source": [
        "# alpaca_prompt = Copied from above\n",
        "FastLanguageModel.for_inference(model) # Enable native 2x faster inference\n",
        "# Modelin giriş formatına uygun hale getirme\n",
        "inputs = tokenizer(\n",
        "    [alpaca_prompt.format(\"What happens if a single core fails in MICROSAR Classic OS?\",\n",
        "                          \"How does MICROSAR Classic OS handle core failures?\",\n",
        "                          \"\")],\n",
        "    return_tensors=\"pt\"\n",
        ").to(\"cuda\")\n",
        "\n",
        "outputs = model.generate(**inputs, **generation_kwargs)\n",
        "response = tokenizer.decode(outputs[0], skip_special_tokens=True)\n",
        "\n",
        "print(\"✅ Güncellenmiş Model Yanıtı:\\n\", response)"
      ],
      "metadata": {
        "id": "houiaZGUd8_Y",
        "outputId": "451b71bc-e565-4e5e-f67c-6a8e8fdf3dd9",
        "colab": {
          "base_uri": "https://localhost:8080/"
        }
      },
      "execution_count": 76,
      "outputs": [
        {
          "output_type": "stream",
          "name": "stdout",
          "text": [
            "✅ Güncellenmiş Model Yanıtı:\n",
            " Below is an instruction that describes a task, paired with an input that provides further context. Write a response that appropriately completes the request.\n",
            "\n",
            "### Instruction:\n",
            "What happens if a single core fails in MICROSAR Classic OS?\n",
            "\n",
            "### Input:\n",
            "How does MICROSAR Classic OS handle core failures?\n",
            "\n",
            "### Response:\n",
            "Core Failure Handling:\n",
            "\n",
            "- If one CPU (core) crashes or becomes unresponsive due to hardware failure,\n",
            "  other cores continue executing tasks.\n",
            "  \n",
            "Example Code: Os_CoreLock(CPU_ID); /* Locks specific Core */\n"
          ]
        }
      ]
    },
    {
      "cell_type": "code",
      "execution_count": 55,
      "metadata": {
        "colab": {
          "base_uri": "https://localhost:8080/"
        },
        "id": "e2pEuRb1r2Vg",
        "outputId": "c2fd97a7-1652-44fc-9ce1-fbe7d4a583ba"
      },
      "outputs": [
        {
          "output_type": "stream",
          "name": "stdout",
          "text": [
            "<|begin_of_text|>Below is an instruction that describes a task, paired with an input that provides further context. Write a response that appropriately completes the request.\n",
            "\n",
            "### Instruction:\n",
            "What happens if a single core fails in MICROSAR Classic OS?\n",
            "\n",
            "### Input:\n",
            "How does MICROSAR Classic OS handle core failures?\n",
            "\n",
            "### Response:\n",
            "Core Failure Handling:\n",
            "- If a core fails, the OS isolates it to prevent further damage.\n",
            "- The OS then attempts to restart the failed core if possible.\n",
            "- If the failure is persistent, the OS may trigger a shutdown or reboot.\n",
            "\n",
            "Example Code: Os_CoreShutdown(CORE_ID_0); /* Shuts down a failed core */<|end_of_text|>\n"
          ]
        }
      ],
      "source": [
        "# alpaca_prompt = Copied from above\n",
        "FastLanguageModel.for_inference(model) # Enable native 2x faster inference\n",
        "inputs = tokenizer(\n",
        "[\n",
        "    alpaca_prompt.format(\n",
        "        \"What happens if a single core fails in MICROSAR Classic OS?\", # instruction\n",
        "        \"How does MICROSAR Classic OS handle core failures?\", # input\n",
        "        \"\", # output - leave this blank for generation!\n",
        "    )\n",
        "], return_tensors = \"pt\").to(\"cuda\")\n",
        "\n",
        "from transformers import TextStreamer\n",
        "text_streamer = TextStreamer(tokenizer)\n",
        "_ = model.generate(**inputs, streamer = text_streamer, max_new_tokens = 128)"
      ]
    },
    {
      "cell_type": "code",
      "source": [
        "from transformers import TextStreamer\n",
        "\n",
        "# FastLanguageModel ile inference hızlandır\n",
        "FastLanguageModel.for_inference(model)\n",
        "\n",
        "# Test girişi oluştur\n",
        "test_input = [\n",
        "    \"What happens if a single core fails in MICROSAR Classic OS?\",  # instruction\n",
        "    \"How does MICROSAR Classic OS handle core failures?\",  # input\n",
        "    \"\"  # output (boş bırak, modelin üretmesini sağla)\n",
        "]\n",
        "\n",
        "# Modelin giriş formatına uygun hale getirme\n",
        "inputs = tokenizer(\n",
        "    [alpaca_prompt.format(*test_input)],\n",
        "    return_tensors=\"pt\"\n",
        ").to(\"cuda\")\n",
        "\n",
        "text_streamer = TextStreamer(tokenizer)\n",
        "\n",
        "# Modelin cevabını üret\n",
        "outputs = model.generate(**inputs, streamer=text_streamer, max_new_tokens=128)\n",
        "\n",
        "# Model çıktısını decode et\n",
        "response = tokenizer.decode(outputs[0], skip_special_tokens=True)\n",
        "\n",
        "# JSON'daki doğru cevabı bul\n",
        "correct_output = None\n",
        "for entry in dataset:\n",
        "    if entry[\"input\"] == test_input[1]:  # input kısmıyla eşleşen doğru cevabı bul\n",
        "        correct_output = entry[\"output\"]\n",
        "        break\n",
        "\n",
        "print(\"✅ Modelin Verdiği Cevap:\\n\", response)\n",
        "print(\"\\n✅ JSON Veri Setindeki Gerçek Cevap:\\n\", correct_output)\n"
      ],
      "metadata": {
        "id": "1oLJWVaqZRWd",
        "outputId": "632743a5-cfe2-45f6-bc9e-4d99f92580c0",
        "colab": {
          "base_uri": "https://localhost:8080/"
        }
      },
      "execution_count": 73,
      "outputs": [
        {
          "output_type": "stream",
          "name": "stdout",
          "text": [
            "<|begin_of_text|>Below is an instruction that describes a task, paired with an input that provides further context. Write a response that appropriately completes the request.\n",
            "\n",
            "### Instruction:\n",
            "What happens if a single core fails in MICROSAR Classic OS?\n",
            "\n",
            "### Input:\n",
            "How does MICROSAR Classic OS handle core failures?\n",
            "\n",
            "### Response:\n",
            "Core Failure Handling:\n",
            "- If a core fails, the OS isolates it to prevent further damage.\n",
            "- The OS then attempts to restart the failed core if possible.\n",
            "- If the failure is persistent, the OS may trigger a shutdown or reboot.\n",
            "\n",
            "Example Code: Os_CoreShutdown(CORE_ID_0); /* Shuts down a failed core */<|end_of_text|>\n",
            "✅ Modelin Verdiği Cevap:\n",
            " Below is an instruction that describes a task, paired with an input that provides further context. Write a response that appropriately completes the request.\n",
            "\n",
            "### Instruction:\n",
            "What happens if a single core fails in MICROSAR Classic OS?\n",
            "\n",
            "### Input:\n",
            "How does MICROSAR Classic OS handle core failures?\n",
            "\n",
            "### Response:\n",
            "Core Failure Handling:\n",
            "- If a core fails, the OS isolates it to prevent further damage.\n",
            "- The OS then attempts to restart the failed core if possible.\n",
            "- If the failure is persistent, the OS may trigger a shutdown or reboot.\n",
            "\n",
            "Example Code: Os_CoreShutdown(CORE_ID_0); /* Shuts down a failed core */\n",
            "\n",
            "✅ JSON Veri Setindeki Gerçek Cevap:\n",
            " Error Handling:\n",
            "- If a core encounters a failure, ProtectionHook() is triggered.\n",
            "- ShutdownOS() stops only the affected core if possible.\n",
            "- ShutdownAllCores() is invoked if the failure affects system-wide stability.\n",
            "- Error details are logged via Os_GetDetailedError().\n",
            "- In case of an unrecoverable failure, Os_PanicHook() is called to halt execution.\n",
            "\n",
            "Error Codes:\n",
            "  Memory Violation: E_OS_SYS_PROTECTION_MEMORY\n",
            "  Timeout: E_OS_SYS_TIMEOUT\n",
            "  Overload: E_OS_SYS_OVERLOAD\n",
            "\n",
            "Process Steps:\n",
            "- Step 1: Placeholder step to be replaced with actual data.\n",
            "- Step 2: Placeholder step to be replaced with actual data.\n",
            "\n",
            "Example Code: void placeholderFunction() { /* Placeholder for actual implementation */ }\n"
          ]
        }
      ]
    },
    {
      "cell_type": "markdown",
      "metadata": {
        "id": "uMuVrWbjAzhc"
      },
      "source": [
        "<a name=\"Save\"></a>\n",
        "### Saving, loading finetuned models\n",
        "To save the final model as LoRA adapters, either use Huggingface's `push_to_hub` for an online save or `save_pretrained` for a local save.\n",
        "\n",
        "**[NOTE]** This ONLY saves the LoRA adapters, and not the full model. To save to 16bit or GGUF, scroll down!"
      ]
    },
    {
      "cell_type": "code",
      "execution_count": null,
      "metadata": {
        "colab": {
          "base_uri": "https://localhost:8080/"
        },
        "id": "upcOlWe7A1vc",
        "outputId": "030a6e13-9371-4717-c5c5-d4e3563e0cca"
      },
      "outputs": [
        {
          "data": {
            "text/plain": [
              "('lora_model/tokenizer_config.json',\n",
              " 'lora_model/special_tokens_map.json',\n",
              " 'lora_model/tokenizer.json')"
            ]
          },
          "execution_count": 11,
          "metadata": {},
          "output_type": "execute_result"
        }
      ],
      "source": [
        "model.save_pretrained(\"lora_model\")  # Local saving\n",
        "tokenizer.save_pretrained(\"lora_model\")\n",
        "# model.push_to_hub(\"your_name/lora_model\", token = \"...\") # Online saving\n",
        "# tokenizer.push_to_hub(\"your_name/lora_model\", token = \"...\") # Online saving"
      ]
    },
    {
      "cell_type": "markdown",
      "metadata": {
        "id": "AEEcJ4qfC7Lp"
      },
      "source": [
        "Now if you want to load the LoRA adapters we just saved for inference, set `False` to `True`:"
      ]
    },
    {
      "cell_type": "code",
      "execution_count": null,
      "metadata": {
        "colab": {
          "base_uri": "https://localhost:8080/"
        },
        "id": "MKX_XKs_BNZR",
        "outputId": "f8e7d3fe-8e4d-49ee-944f-08e70cdc1d87"
      },
      "outputs": [
        {
          "name": "stdout",
          "output_type": "stream",
          "text": [
            "<|begin_of_text|>Below is an instruction that describes a task, paired with an input that provides further context. Write a response that appropriately completes the request.\n",
            "\n",
            "### Instruction:\n",
            "What is a famous tall tower in Paris?\n",
            "\n",
            "### Input:\n",
            "\n",
            "\n",
            "### Response:\n",
            "One of the most famous and iconic tall towers in Paris is the Eiffel Tower. Standing at 324 meters (1,063 feet) tall, this wrought iron tower is a symbol of the city and a must-see attraction for tourists from all over the world.<|end_of_text|>\n"
          ]
        }
      ],
      "source": [
        "if False:\n",
        "    from unsloth import FastLanguageModel\n",
        "    model, tokenizer = FastLanguageModel.from_pretrained(\n",
        "        model_name = \"lora_model\", # YOUR MODEL YOU USED FOR TRAINING\n",
        "        max_seq_length = max_seq_length,\n",
        "        dtype = dtype,\n",
        "        load_in_4bit = load_in_4bit,\n",
        "    )\n",
        "    FastLanguageModel.for_inference(model) # Enable native 2x faster inference\n",
        "\n",
        "# alpaca_prompt = You MUST copy from above!\n",
        "\n",
        "inputs = tokenizer(\n",
        "[\n",
        "    alpaca_prompt.format(\n",
        "        \"What is a famous tall tower in Paris?\", # instruction\n",
        "        \"\", # input\n",
        "        \"\", # output - leave this blank for generation!\n",
        "    )\n",
        "], return_tensors = \"pt\").to(\"cuda\")\n",
        "\n",
        "from transformers import TextStreamer\n",
        "text_streamer = TextStreamer(tokenizer)\n",
        "_ = model.generate(**inputs, streamer = text_streamer, max_new_tokens = 128)"
      ]
    },
    {
      "cell_type": "markdown",
      "metadata": {
        "id": "QQMjaNrjsU5_"
      },
      "source": [
        "You can also use Hugging Face's `AutoModelForPeftCausalLM`. Only use this if you do not have `unsloth` installed. It can be hopelessly slow, since `4bit` model downloading is not supported, and Unsloth's **inference is 2x faster**."
      ]
    },
    {
      "cell_type": "code",
      "execution_count": null,
      "metadata": {
        "id": "yFfaXG0WsQuE"
      },
      "outputs": [],
      "source": [
        "if False:\n",
        "    # I highly do NOT suggest - use Unsloth if possible\n",
        "    from peft import AutoPeftModelForCausalLM\n",
        "    from transformers import AutoTokenizer\n",
        "    model = AutoPeftModelForCausalLM.from_pretrained(\n",
        "        \"lora_model\", # YOUR MODEL YOU USED FOR TRAINING\n",
        "        load_in_4bit = load_in_4bit,\n",
        "    )\n",
        "    tokenizer = AutoTokenizer.from_pretrained(\"lora_model\")"
      ]
    },
    {
      "cell_type": "markdown",
      "metadata": {
        "id": "f422JgM9sdVT"
      },
      "source": [
        "### Saving to float16 for VLLM\n",
        "\n",
        "We also support saving to `float16` directly. Select `merged_16bit` for float16 or `merged_4bit` for int4. We also allow `lora` adapters as a fallback. Use `push_to_hub_merged` to upload to your Hugging Face account! You can go to https://huggingface.co/settings/tokens for your personal tokens."
      ]
    },
    {
      "cell_type": "code",
      "execution_count": null,
      "metadata": {
        "id": "iHjt_SMYsd3P"
      },
      "outputs": [],
      "source": [
        "# Merge to 16bit\n",
        "if False: model.save_pretrained_merged(\"model\", tokenizer, save_method = \"merged_16bit\",)\n",
        "if False: model.push_to_hub_merged(\"hf/model\", tokenizer, save_method = \"merged_16bit\", token = \"\")\n",
        "\n",
        "# Merge to 4bit\n",
        "if False: model.save_pretrained_merged(\"model\", tokenizer, save_method = \"merged_4bit\",)\n",
        "if False: model.push_to_hub_merged(\"hf/model\", tokenizer, save_method = \"merged_4bit\", token = \"\")\n",
        "\n",
        "# Just LoRA adapters\n",
        "if False: model.save_pretrained_merged(\"model\", tokenizer, save_method = \"lora\",)\n",
        "if False: model.push_to_hub_merged(\"hf/model\", tokenizer, save_method = \"lora\", token = \"\")"
      ]
    },
    {
      "cell_type": "markdown",
      "metadata": {
        "id": "TCv4vXHd61i7"
      },
      "source": [
        "### GGUF / llama.cpp Conversion\n",
        "To save to `GGUF` / `llama.cpp`, we support it natively now! We clone `llama.cpp` and we default save it to `q8_0`. We allow all methods like `q4_k_m`. Use `save_pretrained_gguf` for local saving and `push_to_hub_gguf` for uploading to HF.\n",
        "\n",
        "Some supported quant methods (full list on our [Wiki page](https://github.com/unslothai/unsloth/wiki#gguf-quantization-options)):\n",
        "* `q8_0` - Fast conversion. High resource use, but generally acceptable.\n",
        "* `q4_k_m` - Recommended. Uses Q6_K for half of the attention.wv and feed_forward.w2 tensors, else Q4_K.\n",
        "* `q5_k_m` - Recommended. Uses Q6_K for half of the attention.wv and feed_forward.w2 tensors, else Q5_K.\n",
        "\n",
        "[**NEW**] To finetune and auto export to Ollama, try our [Ollama notebook](https://colab.research.google.com/drive/1WZDi7APtQ9VsvOrQSSC5DDtxq159j8iZ?usp=sharing)"
      ]
    },
    {
      "cell_type": "code",
      "execution_count": null,
      "metadata": {
        "id": "FqfebeAdT073"
      },
      "outputs": [],
      "source": [
        "# Save to 8bit Q8_0\n",
        "if False: model.save_pretrained_gguf(\"model\", tokenizer,)\n",
        "# Remember to go to https://huggingface.co/settings/tokens for a token!\n",
        "# And change hf to your username!\n",
        "if False: model.push_to_hub_gguf(\"hf/model\", tokenizer, token = \"\")\n",
        "\n",
        "# Save to 16bit GGUF\n",
        "if False: model.save_pretrained_gguf(\"model\", tokenizer, quantization_method = \"f16\")\n",
        "if False: model.push_to_hub_gguf(\"hf/model\", tokenizer, quantization_method = \"f16\", token = \"\")\n",
        "\n",
        "# Save to q4_k_m GGUF\n",
        "if False: model.save_pretrained_gguf(\"model\", tokenizer, quantization_method = \"q4_k_m\")\n",
        "if False: model.push_to_hub_gguf(\"hf/model\", tokenizer, quantization_method = \"q4_k_m\", token = \"\")\n",
        "\n",
        "# Save to multiple GGUF options - much faster if you want multiple!\n",
        "if False:\n",
        "    model.push_to_hub_gguf(\n",
        "        \"hf/model\", # Change hf to your username!\n",
        "        tokenizer,\n",
        "        quantization_method = [\"q4_k_m\", \"q8_0\", \"q5_k_m\",],\n",
        "        token = \"\",\n",
        "    )"
      ]
    },
    {
      "cell_type": "markdown",
      "metadata": {
        "id": "c6b8Q_XLPsRR"
      },
      "source": [
        "Now, use the `model-unsloth.gguf` file or `model-unsloth-Q4_K_M.gguf` file in llama.cpp or a UI based system like Jan or Open WebUI. You can install Jan [here](https://github.com/janhq/jan) and Open WebUI [here](https://github.com/open-webui/open-webui)\n",
        "\n",
        "And we're done! If you have any questions on Unsloth, we have a [Discord](https://discord.gg/unsloth) channel! If you find any bugs or want to keep updated with the latest LLM stuff, or need help, join projects etc, feel free to join our Discord!\n",
        "\n",
        "Some other links:\n",
        "1. Llama 3.2 Conversational notebook. [Free Colab](https://colab.research.google.com/github/unslothai/notebooks/blob/main/nb/Llama3.2_(1B_and_3B)-Conversational.ipynb)\n",
        "2. Saving finetunes to Ollama. [Free notebook](https://colab.research.google.com/github/unslothai/notebooks/blob/main/nb/Llama3_(8B)-Ollama.ipynb)\n",
        "3. Llama 3.2 Vision finetuning - Radiography use case. [Free Colab](https://colab.research.google.com/github/unslothai/notebooks/blob/main/nb/Llama3.2_(11B)-Vision.ipynb)\n",
        "6. See notebooks for DPO, ORPO, Continued pretraining, conversational finetuning and more on our [documentation](https://docs.unsloth.ai/get-started/unsloth-notebooks)!\n",
        "\n",
        "<div class=\"align-center\">\n",
        "  <a href=\"https://unsloth.ai\"><img src=\"https://github.com/unslothai/unsloth/raw/main/images/unsloth%20new%20logo.png\" width=\"115\"></a>\n",
        "  <a href=\"https://discord.gg/unsloth\"><img src=\"https://github.com/unslothai/unsloth/raw/main/images/Discord.png\" width=\"145\"></a>\n",
        "  <a href=\"https://docs.unsloth.ai/\"><img src=\"https://github.com/unslothai/unsloth/blob/main/images/documentation%20green%20button.png?raw=true\" width=\"125\"></a>\n",
        "\n",
        "  Join Discord if you need help + ⭐️ <i>Star us on <a href=\"https://github.com/unslothai/unsloth\">Github</a> </i> ⭐️\n",
        "</div>\n"
      ]
    }
  ],
  "metadata": {
    "accelerator": "GPU",
    "colab": {
      "gpuType": "T4",
      "provenance": []
    },
    "kernelspec": {
      "display_name": "Python 3",
      "name": "python3"
    },
    "language_info": {
      "name": "python"
    }
  },
  "nbformat": 4,
  "nbformat_minor": 0
}